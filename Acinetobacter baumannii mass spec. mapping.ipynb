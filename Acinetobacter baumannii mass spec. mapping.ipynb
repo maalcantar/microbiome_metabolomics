{
 "cells": [
  {
   "cell_type": "code",
   "execution_count": 1,
   "metadata": {
    "collapsed": true
   },
   "outputs": [],
   "source": [
    "# Importing packages\n",
    "import pandas as pd\n",
    "from matplotlib import pyplot as plt\n",
    "import string\n",
    "\n",
    "# COBRA toolbox specific packages\n",
    "from cobra import Model, Reaction, Metabolite\n",
    "import cobra\n",
    "from cobra.flux_analysis import (\n",
    "    single_gene_deletion, single_reaction_deletion, double_gene_deletion,\n",
    "    double_reaction_deletion)"
   ]
  },
  {
   "cell_type": "code",
   "execution_count": 2,
   "metadata": {
    "collapsed": false
   },
   "outputs": [
    {
     "data": {
      "text/html": [
       "<div>\n",
       "<style scoped>\n",
       "    .dataframe tbody tr th:only-of-type {\n",
       "        vertical-align: middle;\n",
       "    }\n",
       "\n",
       "    .dataframe tbody tr th {\n",
       "        vertical-align: top;\n",
       "    }\n",
       "\n",
       "    .dataframe thead th {\n",
       "        text-align: right;\n",
       "    }\n",
       "</style>\n",
       "<table border=\"1\" class=\"dataframe\">\n",
       "  <thead>\n",
       "    <tr style=\"text-align: right;\">\n",
       "      <th></th>\n",
       "      <th>Mass</th>\n",
       "      <th>Formula</th>\n",
       "      <th>Putative metabolite</th>\n",
       "    </tr>\n",
       "  </thead>\n",
       "  <tbody>\n",
       "    <tr>\n",
       "      <th>0</th>\n",
       "      <td>189.063754</td>\n",
       "      <td>C7H11NO5</td>\n",
       "      <td>N-Acetyl-L-glutamate</td>\n",
       "    </tr>\n",
       "    <tr>\n",
       "      <th>1</th>\n",
       "      <td>147.052987</td>\n",
       "      <td>C5H9NO4</td>\n",
       "      <td>L-Glutamate</td>\n",
       "    </tr>\n",
       "    <tr>\n",
       "      <th>2</th>\n",
       "      <td>175.095627</td>\n",
       "      <td>C6H13N3O3</td>\n",
       "      <td>L-Citrulline</td>\n",
       "    </tr>\n",
       "    <tr>\n",
       "      <th>3</th>\n",
       "      <td>221.089958</td>\n",
       "      <td>C8H15NO6</td>\n",
       "      <td>N-Acetyl-D-glucosamine</td>\n",
       "    </tr>\n",
       "    <tr>\n",
       "      <th>4</th>\n",
       "      <td>259.045942</td>\n",
       "      <td>C6H14NO8P</td>\n",
       "      <td>D-Glucosamine 6-phosphate</td>\n",
       "    </tr>\n",
       "  </tbody>\n",
       "</table>\n",
       "</div>"
      ],
      "text/plain": [
       "         Mass    Formula        Putative metabolite\n",
       "0  189.063754   C7H11NO5       N-Acetyl-L-glutamate\n",
       "1  147.052987    C5H9NO4                L-Glutamate\n",
       "2  175.095627  C6H13N3O3               L-Citrulline\n",
       "3  221.089958   C8H15NO6     N-Acetyl-D-glucosamine\n",
       "4  259.045942  C6H14NO8P  D-Glucosamine 6-phosphate"
      ]
     },
     "execution_count": 2,
     "metadata": {},
     "output_type": "execute_result"
    }
   ],
   "source": [
    "# Loading mass spec. data into dataframe\n",
    "df_AB_mass_spec_data = pd.read_csv(\"Acinetobacter_baumannii_mass_spec.csv\")\n",
    "df_AB_mass_spec_data_important_features = df_AB_mass_spec_data.loc[:, 'Mass':'Max intensity'] # extracting important features\n",
    "# df_AB_mass_spec_data_important_features.head()\n",
    "\n",
    "df_AB_mass_spec_minimal = df_AB_mass_spec_data_important_features[['Mass','Formula','Putative metabolite']] # Mass, formula, name\n",
    "df_AB_mass_spec_minimal.head()"
   ]
  },
  {
   "cell_type": "code",
   "execution_count": 3,
   "metadata": {
    "collapsed": false
   },
   "outputs": [],
   "source": [
    "# Loading Acinetobacter baumannii network reconstruction 'iCN718'\n",
    "AB_model=cobra.io.load_json_model('iCN718.json');"
   ]
  },
  {
   "cell_type": "code",
   "execution_count": 98,
   "metadata": {
    "collapsed": false
   },
   "outputs": [],
   "source": [
    "# Writing function that calculates molar mass from chemical formula\n",
    "def calc_mass_from_formula( formula ):\n",
    "    \n",
    "    # Typical mass of compounds --- assumes non-monoisotopic\n",
    "    C = 12.0107 # +/- 0.0008\n",
    "    H = 1.00794 # +/- 0.00001\n",
    "    N = 14.0067 # +/- 0.0001\n",
    "    O = 15.9994 # +/-\n",
    "    P = 30.973762 # +/- 0.000002\n",
    "    S =  32.065 # +/- 0.005\n",
    "\n",
    "    # Initializing new string for first round of alteration (i.e., adding the '+')\n",
    "    new_str = ''\n",
    "\n",
    "    # Adding a '+' before every element\n",
    "    for index in range (0, len(formula)):\n",
    "        temp_str = formula[index]\n",
    "        if temp_str.isalpha():\n",
    "            new_str = new_str + '+' + temp_str \n",
    "        elif temp_str.isnumeric():\n",
    "            new_str = new_str + temp_str\n",
    "            \n",
    "    # Removing the '+' at teh beginning of each string\n",
    "    if new_str[0] == '+':\n",
    "        str_formula_add = new_str[1:]\n",
    "\n",
    "    # Initializing new string for second round of alteration (i.e., adding the '*')\n",
    "    final_str_formula = ''\n",
    "\n",
    "    # Adding a '*' after each element that is followed by a number\n",
    "    for index in range(0,len(str_formula_add)):\n",
    "        temp_str_1 = str_formula_add[index]\n",
    "        if index != len(str_formula_add)-1:\n",
    "            temp_str_2 = str_formula_add[index + 1]\n",
    "        if temp_str_1.isalpha() and temp_str_2.isnumeric():\n",
    "            final_str_formula = final_str_formula + temp_str_1 + '*'\n",
    "        else: \n",
    "            final_str_formula = final_str_formula + temp_str_1\n",
    "\n",
    "    # Evaludating string expression and returning molecular mass to user\n",
    "    molecular_mass = eval(final_str_formula)    \n",
    "    return molecular_mass\n",
    "\n"
   ]
  },
  {
   "cell_type": "code",
   "execution_count": 103,
   "metadata": {
    "collapsed": false
   },
   "outputs": [
    {
     "name": "stdout",
     "output_type": "stream",
     "text": [
      "189.16593999999998\n"
     ]
    }
   ],
   "source": [
    "# Test case of function (output should be 189.1659 )\n",
    "mass = calc_mass_from_formula('C7H11NO5')\n",
    "print(mass)"
   ]
  }
 ],
 "metadata": {
  "anaconda-cloud": {},
  "kernelspec": {
   "display_name": "Python [conda root]",
   "language": "python",
   "name": "conda-root-py"
  },
  "language_info": {
   "codemirror_mode": {
    "name": "ipython",
    "version": 3
   },
   "file_extension": ".py",
   "mimetype": "text/x-python",
   "name": "python",
   "nbconvert_exporter": "python",
   "pygments_lexer": "ipython3",
   "version": "3.5.2"
  }
 },
 "nbformat": 4,
 "nbformat_minor": 1
}
