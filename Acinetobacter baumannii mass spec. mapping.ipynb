{
 "cells": [
  {
   "cell_type": "markdown",
   "metadata": {},
   "source": [
    "# Acinetobacter baumannii mass spectrometry data mapping\n",
    "\n",
    "Using multiple metabolite databases to elucidate structures obtained with mass spectrometry. Data was obtained from \" Untargeted metabolomics analysis reveals key pathways responsible for the synergistic killing of colistin and doripenem combination against Acinetobacter baumannii\"."
   ]
  },
  {
   "cell_type": "code",
   "execution_count": null,
   "metadata": {
    "collapsed": true
   },
   "outputs": [],
   "source": [
    "# Importing packages\n",
    "import pandas as pd\n",
    "import numpy as np\n",
    "from matplotlib import pyplot as plt\n",
    "import string\n",
    "\n",
    "# COBRA toolbox specific packages\n",
    "from cobra import Model, Reaction, Metabolite\n",
    "import cobra\n",
    "from cobra.flux_analysis import (\n",
    "    single_gene_deletion, single_reaction_deletion, double_gene_deletion,\n",
    "    double_reaction_deletion)"
   ]
  },
  {
   "cell_type": "code",
   "execution_count": null,
   "metadata": {
    "collapsed": false
   },
   "outputs": [],
   "source": [
    "# Loading mass spec. data into dataframe\n",
    "df_AB_mass_spec_data = pd.read_csv(\"Acinetobacter_baumannii_mass_spec.csv\")\n",
    "df_AB_mass_spec_data_important_features = df_AB_mass_spec_data.loc[:, 'Mass':'Max intensity'] # extracting important features\n",
    "# df_AB_mass_spec_data_important_features.head()\n",
    "\n",
    "df_AB_mass_spec_minimal = df_AB_mass_spec_data_important_features[['Mass','Formula','Putative metabolite']] # Mass, formula, name\n",
    "df_AB_mass_spec_minimal.head()"
   ]
  },
  {
   "cell_type": "code",
   "execution_count": null,
   "metadata": {
    "collapsed": false
   },
   "outputs": [],
   "source": [
    "df_AB_mass_spec_data"
   ]
  },
  {
   "cell_type": "markdown",
   "metadata": {},
   "source": [
    "# A. baumannii network reconstruction\n",
    "From \"iCN718, an Updated and Improved Genome-Scale Metabolic Network Reconstruction of Acinetobacter baumannii AYE\""
   ]
  },
  {
   "cell_type": "code",
   "execution_count": null,
   "metadata": {
    "collapsed": false
   },
   "outputs": [],
   "source": [
    "# Loading Acinetobacter baumannii network reconstruction 'iCN718'\n",
    "AB_model=cobra.io.load_json_model('iCN718.json')\n",
    "AB_model.metabolites.atp_c.formula"
   ]
  },
  {
   "cell_type": "markdown",
   "metadata": {},
   "source": [
    "# Mass calculator "
   ]
  },
  {
   "cell_type": "code",
   "execution_count": null,
   "metadata": {
    "collapsed": false
   },
   "outputs": [],
   "source": [
    "# Writing function that calculates molar mass from chemical formula\n",
    "def calc_mass_from_formula( formula ):\n",
    "    \n",
    "    # Typical mass of compounds --- assumes non-monoisotopic\n",
    "    C = 12.0107 # +/- 0.0008\n",
    "    H = 1.00794 # +/- 0.00001\n",
    "    N = 14.0067 # +/- 0.0001\n",
    "    O = 15.9994 # +/-\n",
    "    P = 30.973762 # +/- 0.000002\n",
    "    S =  32.065 # +/- 0.005\n",
    "\n",
    "    # Initializing new string for first round of alteration (i.e., adding the '+')\n",
    "    new_str = ''\n",
    "\n",
    "    # Adding a '+' before every element\n",
    "    for index in range (0, len(formula)):\n",
    "        temp_str = formula[index]\n",
    "        if temp_str.isalpha():\n",
    "            new_str = new_str + '+' + temp_str \n",
    "        elif temp_str.isnumeric():\n",
    "            new_str = new_str + temp_str\n",
    "            \n",
    "    # Removing the '+' at teh beginning of each string\n",
    "    if new_str[0] == '+':\n",
    "        str_formula_add = new_str[1:]\n",
    "\n",
    "    # Initializing new string for second round of alteration (i.e., adding the '*')\n",
    "    final_str_formula = ''\n",
    "\n",
    "    # Adding a '*' after each element that is followed by a number\n",
    "    for index in range(0,len(str_formula_add)):\n",
    "        temp_str_1 = str_formula_add[index]\n",
    "        if index != len(str_formula_add)-1:\n",
    "            temp_str_2 = str_formula_add[index + 1]\n",
    "        if temp_str_1.isalpha() and temp_str_2.isnumeric():\n",
    "            final_str_formula = final_str_formula + temp_str_1 + '*'\n",
    "        else: \n",
    "            final_str_formula = final_str_formula + temp_str_1\n",
    "\n",
    "    # Evaludating string expression and returning molecular mass to user\n",
    "    molecular_mass = eval(final_str_formula)    \n",
    "    return molecular_mass\n",
    "\n"
   ]
  },
  {
   "cell_type": "code",
   "execution_count": null,
   "metadata": {
    "collapsed": false
   },
   "outputs": [],
   "source": [
    "# Test case of function (output should be 189.1659 )\n",
    "mass = calc_mass_from_formula('C7H11NO5')\n",
    "print(mass)"
   ]
  },
  {
   "cell_type": "markdown",
   "metadata": {},
   "source": [
    "# Parsing A. baumannii - specific database (from biocyc)\n"
   ]
  },
  {
   "cell_type": "code",
   "execution_count": null,
   "metadata": {
    "collapsed": false
   },
   "outputs": [],
   "source": [
    "# Parsing data A_Baumannii file containing compounds\n",
    "\n",
    "with open('A_Baumannii_compounds.txt') as f:\n",
    "    # counter = 0\n",
    "    # common_name = []\n",
    "    # inchi = []\n",
    "    # mono_mw = []\n",
    "    start = False\n",
    "    compounds = []\n",
    "    for line in f:\n",
    "        if line.strip().split()[0] =='UNIQUE-ID':\n",
    "            start = True\n",
    "            compound = {'COMMON-NAME':'','INCHI':'', 'MONOISOTOPIC-MW':0}\n",
    "        if line.strip() == '//':\n",
    "            start = False\n",
    "            compounds.append(list(compound.values()))\n",
    "        if start:\n",
    "            line = line.strip().split()\n",
    "            if line[0] == 'COMMON-NAME':\n",
    "                compound['COMMON-NAME'] = ''.join(line[2:])\n",
    "            if line[0] == 'INCHI':\n",
    "                compound['INCHI'] = line[2].split('/')[1]\n",
    "            if line[0] == 'MONOISOTOPIC-MW':\n",
    "                compound['MONOISOTOPIC-MW'] = line[2]\n",
    "    print(len(compounds))                    \n",
    "    print(compounds[0])"
   ]
  },
  {
   "cell_type": "code",
   "execution_count": null,
   "metadata": {
    "collapsed": false
   },
   "outputs": [],
   "source": [
    "len(compounds)\n"
   ]
  },
  {
   "cell_type": "code",
   "execution_count": null,
   "metadata": {
    "collapsed": false
   },
   "outputs": [],
   "source": [
    "# Create new dataframe for comparison\n",
    "df_AB_mass_spec_mapping = df_AB_mass_spec_minimal.copy()\n",
    "df_AB_mass_spec_mapping['mapped_MW'] = ''\n",
    "df_AB_mass_spec_mapping['mapped_formula'] = ''\n",
    "df_AB_mass_spec_mapping['mapped_metabs'] = ''\n",
    "\n",
    "df_AB_mass_spec_mapping\n",
    "\n",
    "# df_AB_mass_spec_mapping.loc[1,'mapped_MW'] = 'test'\n",
    "# df_AB_mass_spec_mapping"
   ]
  },
  {
   "cell_type": "code",
   "execution_count": null,
   "metadata": {
    "collapsed": false
   },
   "outputs": [],
   "source": [
    "# List of candidates \n",
    "# ppm = mass error / exact mass * 10^6\n",
    "\n",
    "counter = 0\n",
    "\n",
    "for mass_measured in df_AB_mass_spec_mapping['Mass']:\n",
    "    candidate_metabs_mass = []\n",
    "    candidate_metabs_formula = []\n",
    "    candidate_metabs_name = []\n",
    "    for compound in compounds:\n",
    "        \n",
    "        candidate_mass = compound[0]\n",
    "        candidate_formula = compound[1]\n",
    "        candidate_name = compound[2]\n",
    "        \n",
    "        if float(candidate_mass) > 0.1:\n",
    "            error_ppm =  (abs((float(candidate_mass) - mass_measured)) / float(candidate_mass)) * (10**6)\n",
    "        else:\n",
    "            error_ppm = 1000000\n",
    "        \n",
    "        # Applying 5ppm error threshold \n",
    "        if error_ppm < 25:\n",
    "            candidate_metabs_mass.append(candidate_mass)\n",
    "            candidate_metabs_formula.append(candidate_formula)\n",
    "            candidate_metabs_name.append(candidate_name)\n",
    "            # print('got one') - verification that threshold is working to work\n",
    "            \n",
    "    candidate_metabs_mass_comb = ', '.join(map(str,candidate_metabs_mass))\n",
    "    candidate_metabs_formula_comb = ', '.join(map(str,candidate_metabs_formula))\n",
    "    candidate_metabs_name_comb = ', '.join(map(str,candidate_metabs_name))\n",
    "    \n",
    "#     if len(candidate_metabs_mass_comb) > 2:\n",
    "#         test =candidate_metabs_mass\n",
    "    \n",
    "    df_AB_mass_spec_mapping.loc[counter,'mapped_MW'] = candidate_metabs_mass_comb\n",
    "    df_AB_mass_spec_mapping.loc[counter,'mapped_formula'] = candidate_metabs_formula_comb\n",
    "    df_AB_mass_spec_mapping.loc[counter,'mapped_metabs'] = candidate_metabs_name_comb\n",
    "    \n",
    "    counter += 1\n",
    "\n",
    "\n",
    "# Displaying mapped dataframe\n",
    "df_AB_mass_spec_mapping   "
   ]
  },
  {
   "cell_type": "code",
   "execution_count": null,
   "metadata": {
    "collapsed": false
   },
   "outputs": [],
   "source": [
    "# Creating list with number of mapped matches\n",
    "\n",
    "metab_matches = []\n",
    "\n",
    "for mapped_metab in df_AB_mass_spec_mapping['mapped_metabs']:\n",
    "    # print(mapped_metab)\n",
    "    if len(mapped_metab) == 0:\n",
    "        metab_matches.append(len(mapped_metab))\n",
    "    else: \n",
    "        temp_metabs = mapped_metab.split(', ')\n",
    "        temp_matches = len(temp_metabs)\n",
    "        metab_matches.append(temp_matches)"
   ]
  },
  {
   "cell_type": "code",
   "execution_count": null,
   "metadata": {
    "collapsed": false
   },
   "outputs": [],
   "source": [
    "metab_matches.count(0)"
   ]
  },
  {
   "cell_type": "code",
   "execution_count": null,
   "metadata": {
    "collapsed": false,
    "scrolled": true
   },
   "outputs": [],
   "source": [
    "\n",
    "\n",
    "fig = plt.figure(figsize=(12, 9))  \n",
    "\n",
    "ax = plt.subplot(111)  \n",
    "ax.spines[\"top\"].set_visible(False)  \n",
    "ax.spines[\"right\"].set_visible(False) \n",
    "\n",
    "ax.get_xaxis().tick_bottom()  \n",
    "ax.get_yaxis().tick_left() \n",
    "\n",
    "plt.xticks(fontsize=14)  \n",
    "plt.yticks(range(0, 1347, 200), fontsize=14) \n",
    "\n",
    "plt.xlabel(\"Number of metabolite matches\", fontsize=20)  \n",
    "plt.ylabel(\"Occurences\", fontsize=20)\n",
    "\n",
    "plt.title('Matches in metabolite mapping', fontsize=26)\n",
    "\n",
    "plt.hist(metab_matches,  \n",
    "         color=\"#3F5D7D\", bins=11) \n",
    "fig.savefig('test.png')\n",
    "plt.show()\n",
    "\n",
    "fig.savefig('test.png')"
   ]
  },
  {
   "cell_type": "code",
   "execution_count": null,
   "metadata": {
    "collapsed": false
   },
   "outputs": [],
   "source": [
    "# Bring 0-matches value down --- look for databases on KEGG and HMDB\n",
    "\n",
    "LCMS_meausred_masses = df_AB_mass_spec_mapping['Mass']\n",
    "type(LCMS_meausred_masses)\n",
    "LCMS_meausred_masses.to_csv('LCMS_meausred_masses.csv')"
   ]
  },
  {
   "cell_type": "markdown",
   "metadata": {},
   "source": [
    "# Using MetCyc database"
   ]
  },
  {
   "cell_type": "code",
   "execution_count": null,
   "metadata": {
    "collapsed": true
   },
   "outputs": [],
   "source": [
    "# Parsing data A_Baumannii file containing compounds\n",
    "\n",
    "with open('compounds.dat') as f:\n",
    "    # counter = 0\n",
    "    # common_name = []\n",
    "    # inchi = []\n",
    "    # mono_mw = []\n",
    "    start = False\n",
    "    compounds_MC = []\n",
    "    for line in f:\n",
    "        if line.strip().split()[0] =='UNIQUE-ID':\n",
    "            start = True\n",
    "            compound_MC = {'COMMON-NAME':'','INCHI':'', 'MONOISOTOPIC-MW':0}\n",
    "        if line.strip() == '//':\n",
    "            start = False\n",
    "            compounds_MC.append(list(compound_MC.values()))\n",
    "        if start:\n",
    "            line = line.strip().split()\n",
    "            if line[0] == 'COMMON-NAME':\n",
    "                compound_MC['COMMON-NAME'] = ''.join(line[2:])\n",
    "            if line[0] == 'INCHI':\n",
    "                compound_MC['INCHI'] = line[2].split('/')[1]\n",
    "            if line[0] == 'MONOISOTOPIC-MW':\n",
    "                compound_MC['MONOISOTOPIC-MW'] = line[2]\n",
    "    # print(len(compounds))                    \n",
    "    # print(compounds[0])"
   ]
  },
  {
   "cell_type": "code",
   "execution_count": null,
   "metadata": {
    "collapsed": false
   },
   "outputs": [],
   "source": [
    "len(compounds_MC)"
   ]
  },
  {
   "cell_type": "code",
   "execution_count": null,
   "metadata": {
    "collapsed": false
   },
   "outputs": [],
   "source": [
    "# Create new dataframe for comparison\n",
    "df_AB_mass_spec_mapping_MC = df_AB_mass_spec_minimal.copy()\n",
    "df_AB_mass_spec_mapping_MC['mapped_MW'] = ''\n",
    "df_AB_mass_spec_mapping_MC['mapped_formula'] = ''\n",
    "df_AB_mass_spec_mapping_MC['mapped_metabs'] = ''\n",
    "\n",
    "df_AB_mass_spec_mapping_MC\n",
    "\n",
    "# df_AB_mass_spec_mapping.loc[1,'mapped_MW'] = 'test'\n",
    "# df_AB_mass_spec_mapping"
   ]
  },
  {
   "cell_type": "code",
   "execution_count": null,
   "metadata": {
    "collapsed": false
   },
   "outputs": [],
   "source": [
    "# List of candidates \n",
    "# ppm = mass error / exact mass * 10^6\n",
    "\n",
    "counter = 0\n",
    "\n",
    "for mass_measured_MC in df_AB_mass_spec_mapping_MC['Mass']:\n",
    "    candidate_metabs_mass_MC = []\n",
    "    candidate_metabs_formula_MC = []\n",
    "    candidate_metabs_name_MC = []\n",
    "    for compound_MC in compounds_MC:\n",
    "        \n",
    "        candidate_mass_MC = compound_MC[0]\n",
    "        candidate_formula_MC = compound_MC[1]\n",
    "        candidate_name_MC = compound_MC[2]\n",
    "        \n",
    "        if float(candidate_mass_MC) > 0.1:\n",
    "            error_ppm =  (abs((float(candidate_mass_MC) - mass_measured_MC)) / float(candidate_mass_MC)) * (10**6)\n",
    "        else:\n",
    "            error_ppm = 1000000\n",
    "        \n",
    "        # Applying 5ppm error threshold \n",
    "        if error_ppm < 25:\n",
    "            candidate_metabs_mass_MC.append(candidate_mass_MC)\n",
    "            candidate_metabs_formula_MC.append(candidate_formula_MC)\n",
    "            candidate_metabs_name_MC.append(candidate_name_MC)\n",
    "            # print('got one') - verification that threshold is working to work\n",
    "            \n",
    "    candidate_metabs_mass_comb_MC = ', '.join(map(str,candidate_metabs_mass_MC))\n",
    "    candidate_metabs_formula_comb_MC = ', '.join(map(str,candidate_metabs_formula_MC))\n",
    "    candidate_metabs_name_comb_MC = ', '.join(map(str,candidate_metabs_name_MC))\n",
    "    \n",
    "#     if len(candidate_metabs_mass_comb) > 2:\n",
    "#         test =candidate_metabs_mass\n",
    "    \n",
    "    df_AB_mass_spec_mapping_MC.loc[counter,'mapped_MW'] = candidate_metabs_mass_comb_MC\n",
    "    df_AB_mass_spec_mapping_MC.loc[counter,'mapped_formula'] = candidate_metabs_formula_comb_MC\n",
    "    df_AB_mass_spec_mapping_MC.loc[counter,'mapped_metabs'] = candidate_metabs_name_comb_MC\n",
    "    \n",
    "    counter += 1\n",
    "\n",
    "\n",
    "# Displaying mapped dataframe\n",
    "df_AB_mass_spec_mapping_MC"
   ]
  },
  {
   "cell_type": "code",
   "execution_count": null,
   "metadata": {
    "collapsed": true
   },
   "outputs": [],
   "source": [
    "# Creating list with number of mapped matches\n",
    "\n",
    "metab_matches_MC = []\n",
    "\n",
    "for mapped_metab_MC in df_AB_mass_spec_mapping_MC['mapped_metabs']:\n",
    "    # print(mapped_metab)\n",
    "    if len(mapped_metab_MC) == 0:\n",
    "        metab_matches_MC.append(len(mapped_metab_MC))\n",
    "    else: \n",
    "        temp_metabs_MC = mapped_metab_MC.split(', ')\n",
    "        temp_matches_MC = len(temp_metabs_MC)\n",
    "        metab_matches_MC.append(temp_matches_MC)"
   ]
  },
  {
   "cell_type": "code",
   "execution_count": null,
   "metadata": {
    "collapsed": false
   },
   "outputs": [],
   "source": [
    "metab_matches_MC.index(74)\n",
    "df_AB_mass_spec_mapping_MC.loc[118, \"mapped_metabs\"]"
   ]
  },
  {
   "cell_type": "code",
   "execution_count": null,
   "metadata": {
    "collapsed": false
   },
   "outputs": [],
   "source": [
    "fig = plt.figure(figsize=(12, 9))  \n",
    "\n",
    "ax = plt.subplot(111)  \n",
    "ax.spines[\"top\"].set_visible(False)  \n",
    "ax.spines[\"right\"].set_visible(False) \n",
    "\n",
    "ax.get_xaxis().tick_bottom()  \n",
    "ax.get_yaxis().tick_left() \n",
    "\n",
    "plt.xticks(fontsize=14)  \n",
    "plt.yticks(range(0, 650, 200), fontsize=14) \n",
    "\n",
    "plt.xlabel(\"Number of metabolite matches\", fontsize=20)  \n",
    "plt.ylabel(\"Occurences\", fontsize=20)\n",
    "\n",
    "plt.title('Matches in metabolite mapping', fontsize=26)\n",
    "\n",
    "plt.hist(metab_matches_MC,  \n",
    "         color=\"#3F5D7D\",bins = 75) \n",
    "fig.savefig('test2.png')\n",
    "plt.show()\n",
    "fig.savefig('test2.png')"
   ]
  },
  {
   "cell_type": "markdown",
   "metadata": {},
   "source": [
    "# BioCyc + MetCyc"
   ]
  },
  {
   "cell_type": "code",
   "execution_count": null,
   "metadata": {
    "collapsed": false
   },
   "outputs": [],
   "source": [
    "compounds_mixed = compounds + compounds_MC\n",
    "\n",
    "compounds_mixed"
   ]
  },
  {
   "cell_type": "code",
   "execution_count": null,
   "metadata": {
    "collapsed": false
   },
   "outputs": [],
   "source": [
    "compounds == compounds_MC"
   ]
  },
  {
   "cell_type": "code",
   "execution_count": null,
   "metadata": {
    "collapsed": false
   },
   "outputs": [],
   "source": [
    "# Create new dataframe for comparison\n",
    "df_AB_mass_spec_mapping_mixed = df_AB_mass_spec_minimal.copy()\n",
    "df_AB_mass_spec_mapping_mixed['mapped_MW'] = ''\n",
    "df_AB_mass_spec_mapping_mixed['mapped_formula'] = ''\n",
    "df_AB_mass_spec_mapping_mixed['mapped_metabs'] = ''\n",
    "\n",
    "df_AB_mass_spec_mapping_mixed\n",
    "\n",
    "# df_AB_mass_spec_mapping.loc[1,'mapped_MW'] = 'test'\n",
    "# df_AB_mass_spec_mapping"
   ]
  },
  {
   "cell_type": "code",
   "execution_count": null,
   "metadata": {
    "collapsed": false
   },
   "outputs": [],
   "source": [
    "# List of candidates \n",
    "# ppm = mass error / exact mass * 10^6\n",
    "\n",
    "counter = 0\n",
    "\n",
    "for mass_measured_mixed in df_AB_mass_spec_mapping_mixed['Mass']:\n",
    "    candidate_metabs_mass_mixed = []\n",
    "    candidate_metabs_formula_mixed = []\n",
    "    candidate_metabs_name_mixed = []\n",
    "    for compound_mixed in compounds_mixed:\n",
    "        \n",
    "        candidate_mass_mixed = compound_mixed[0]\n",
    "        candidate_formula_mixed = compound_mixed[1]\n",
    "        candidate_name_mixed = compound_mixed[2]\n",
    "        \n",
    "        if float(candidate_mass_mixed) > 0.1:\n",
    "            error_ppm =  (abs((float(candidate_mass_mixed) - mass_measured_mixed)) / float(candidate_mass_mixed)) * (10**6)\n",
    "        else:\n",
    "            error_ppm = 1000000\n",
    "        \n",
    "        # Applying 5ppm error threshold \n",
    "        if error_ppm < 25:\n",
    "            candidate_metabs_mass_mixed.append(candidate_mass_mixed)\n",
    "            candidate_metabs_formula_mixed.append(candidate_formula_mixed)\n",
    "            candidate_metabs_name_mixed.append(candidate_name_mixed)\n",
    "            # print('got one') - verification that threshold is working to work\n",
    "            \n",
    "    candidate_metabs_mass_comb_mixed = ', '.join(map(str,candidate_metabs_mass_mixed))\n",
    "    candidate_metabs_formula_comb_mixed = ', '.join(map(str,candidate_metabs_formula_mixed))\n",
    "    candidate_metabs_name_comb_mixed = ', '.join(map(str,candidate_metabs_name_mixed))\n",
    "    \n",
    "#     if len(candidate_metabs_mass_comb) > 2:\n",
    "#         test =candidate_metabs_mass\n",
    "    \n",
    "    df_AB_mass_spec_mapping_mixed.loc[counter,'mapped_MW'] = candidate_metabs_mass_comb_mixed\n",
    "    df_AB_mass_spec_mapping_mixed.loc[counter,'mapped_formula'] = candidate_metabs_formula_comb_mixed\n",
    "    df_AB_mass_spec_mapping_mixed.loc[counter,'mapped_metabs'] = candidate_metabs_name_comb_mixed\n",
    "    \n",
    "    counter += 1\n",
    "\n",
    "\n",
    "# Displaying mapped dataframe\n",
    "df_AB_mass_spec_mapping_mixed"
   ]
  },
  {
   "cell_type": "code",
   "execution_count": null,
   "metadata": {
    "collapsed": true
   },
   "outputs": [],
   "source": [
    "# Creating list with number of mapped matches\n",
    "\n",
    "metab_matches_mixed = []\n",
    "\n",
    "for mapped_metab_mixed in df_AB_mass_spec_mapping_mixed['mapped_metabs']:\n",
    "    # print(mapped_metab)\n",
    "    if len(mapped_metab_mixed) == 0:\n",
    "        metab_matches_mixed.append(len(mapped_metab_mixed))\n",
    "    else: \n",
    "        temp_metabs_mixed = mapped_metab_mixed.split(', ')\n",
    "        temp_matches_mixed = len(temp_metabs_mixed)\n",
    "        metab_matches_mixed.append(temp_matches_mixed)"
   ]
  },
  {
   "cell_type": "code",
   "execution_count": null,
   "metadata": {
    "collapsed": false
   },
   "outputs": [],
   "source": [
    "max(metab_matches_mixed)"
   ]
  },
  {
   "cell_type": "code",
   "execution_count": null,
   "metadata": {
    "collapsed": false,
    "scrolled": false
   },
   "outputs": [],
   "source": [
    "plt.figure(figsize=(12, 9))  \n",
    "\n",
    "ax = plt.subplot(111)  \n",
    "ax.spines[\"top\"].set_visible(False)  \n",
    "ax.spines[\"right\"].set_visible(False) \n",
    "\n",
    "ax.get_xaxis().tick_bottom()  \n",
    "ax.get_yaxis().tick_left() \n",
    "\n",
    "plt.xticks(fontsize=14)  \n",
    "plt.yticks(range(0, 650, 200), fontsize=14) \n",
    "\n",
    "plt.xlabel(\"Number of metabolite matches\", fontsize=16)  \n",
    "plt.ylabel(\"Occurences\", fontsize=16)\n",
    "\n",
    "plt.title('Matches in metabolite mapping', fontsize=24)\n",
    "\n",
    "plt.hist(metab_matches_mixed,  \n",
    "         color=\"#3F5D7D\",bins = 81) \n",
    "\n",
    "plt.show()\n",
    "\n",
    "# Less 0 matches, but also less singular matches "
   ]
  },
  {
   "cell_type": "markdown",
   "metadata": {},
   "source": [
    "# Pathway determination "
   ]
  },
  {
   "cell_type": "code",
   "execution_count": null,
   "metadata": {
    "collapsed": false
   },
   "outputs": [],
   "source": [
    "# Creating new dataframe with pathways\n",
    "df_AB_mass_spec_mapping_pathways = df_AB_mass_spec_mapping.copy()\n",
    "df_AB_mass_spec_mapping_pathways['pathway'] = ''\n",
    "\n",
    "df_AB_mass_spec_mapping_pathways['pathway'] = df_AB_mass_spec_data.loc[:, 'Pathway']\n",
    "df_AB_mass_spec_mapping_pathways['mapped_metabs'].loc[1693]\n",
    "\n"
   ]
  },
  {
   "cell_type": "code",
   "execution_count": null,
   "metadata": {
    "collapsed": false
   },
   "outputs": [],
   "source": [
    "df_AB_mass_spec_mapping_pathways"
   ]
  },
  {
   "cell_type": "code",
   "execution_count": null,
   "metadata": {
    "collapsed": false
   },
   "outputs": [],
   "source": [
    "# Creating set of pathways\n",
    "\n",
    "pathway_list = []\n",
    "for pathway in df_AB_mass_spec_mapping_pathways['pathway']:\n",
    "    temp_pathways = str(pathway)\n",
    "    if '__' in temp_pathways: # '__' was used to split pathways in Excel spreadsheet\n",
    "        pathway_split = temp_pathways.split('__')\n",
    "        for index in range(len(pathway_split)):\n",
    "            pathway_list.append(pathway_split[index])\n",
    "    else:\n",
    "        pathway_list.append(temp_pathways)\n",
    "pathway_set = set(pathway_list)\n",
    "        \n",
    "# Cleaning-up set (removing missed case with multiple pathway and removing empty space if present)\n",
    "pathway_list_final = []\n",
    "for pathway in pathway_set:\n",
    "    if pathway == 'Glutathione metabolism_Butanoate metabolism_C5-Branched dibasic acid metabolism_Porphyrin and chlorophyll metabolism_Nitrogen metabolism':\n",
    "        print('removed') # tell me when missed case is removed\n",
    "    elif pathway[0] == ' ':\n",
    "        if pathway[-1] == ' ':\n",
    "            pathway_list_final.append(pathway[1:-1])\n",
    "        else: \n",
    "            pathway_list_final.append(pathway[1:])\n",
    "    elif pathway[-1] == ' ':\n",
    "        if pathway[0] == ' ':\n",
    "            pathway_list_final.append(pathway[1:-1])\n",
    "        else: \n",
    "            pathway_list_final.append(pathway[:-1])        \n",
    "    else:\n",
    "        pathway_list_final.append(pathway)\n",
    "        \n",
    "pathway_set_final = sorted(set(pathway_list_final))\n",
    "\n",
    "\n",
    "# Creating a set of pathway stemming from the original data set\n",
    "# pathway_list = []\n",
    "# for pathway in df_AB_mass_spec_mapping_pathways['pathway']:\n",
    "#     temp_pathways = str(pathway)\n",
    "#     if '__' in temp_pathways: # '__' was used to split pathways in Excel spreadsheet\n",
    "#         pathway_split = temp_pathways.split('__')\n",
    "#         for index in range(len(pathway_split)):\n",
    "#             pathway_list.append(pathway_split[index])\n",
    "#     else:\n",
    "#         pathway_list.append(temp_pathways)\n",
    "# pathway_set = set(pathway_list)\n",
    "        \n",
    "# # Cleaning-up set (removing missed case with multiple pathway and removing empty space if present)\n",
    "# pathway_list_final = []\n",
    "# for pathway in pathway_set:\n",
    "#     if pathway == 'Glutathione metabolism_Butanoate metabolism_C5-Branched dibasic acid metabolism_Porphyrin and chlorophyll metabolism_Nitrogen metabolism':\n",
    "#         print('removed') # tell me when missed case is removed\n",
    "#     elif pathway[0] == ' ':\n",
    "#         pathway_list_final.append(pathway[1:])\n",
    "#     else:\n",
    "#         pathway_list_final.append(pathway)\n",
    "        \n",
    "# pathway_set_final = sorted(set(pathway_list_final))\n",
    "\n",
    "    "
   ]
  },
  {
   "cell_type": "code",
   "execution_count": null,
   "metadata": {
    "collapsed": false
   },
   "outputs": [],
   "source": [
    "pathway_set_final"
   ]
  },
  {
   "cell_type": "code",
   "execution_count": null,
   "metadata": {
    "collapsed": false
   },
   "outputs": [],
   "source": [
    "# Counting pathways and how many were missed \n",
    "\n",
    "pathway_analysis_list = []\n",
    "\n",
    "for pathway in pathway_set_final:\n",
    "    Actual_instances = 0\n",
    "    Measured_instances = 0\n",
    "    counter = 0\n",
    "    \n",
    "    pathway_dict = {'pathway':pathway,'Actual instances':0, 'Meausred instances':0, 'Percentage_captured':0}\n",
    "    for pathway_options in df_AB_mass_spec_mapping_pathways['pathway']:\n",
    "        if pathway in pathway_options:\n",
    "            Actual_instances += 1\n",
    "            if df_AB_mass_spec_mapping_pathways.loc[counter,'mapped_formula'] == '':\n",
    "                pass\n",
    "            else:\n",
    "                Measured_instances += 1\n",
    "            counter += 1\n",
    "    \n",
    "    pathway_dict['Actual instances'] = int(Actual_instances)\n",
    "    pathway_dict['Meausred instances'] = int(Measured_instances)\n",
    "    pathway_dict['Percentage_captured'] = float(Measured_instances)/float(Actual_instances) * 100 \n",
    "    \n",
    "    pathway_analysis_list.append(pathway_dict)\n"
   ]
  },
  {
   "cell_type": "code",
   "execution_count": null,
   "metadata": {
    "collapsed": false
   },
   "outputs": [],
   "source": [
    "# Prepping pathway analysis to csv export\n",
    "\n",
    "pathway_analysis_df = pd.DataFrame()\n",
    "for index in range(len(pathway_analysis_list)):\n",
    "    pathway_analysis_df = pathway_analysis_df.append(pathway_analysis_list[index], ignore_index = True)\n",
    "# pathway_analysis_df\n",
    "\n",
    "cols = pathway_analysis_df.columns.tolist()\n",
    "cols = cols[-1:] + cols[:-1]\n",
    "pathway_analysis_df = pathway_analysis_df[cols]\n",
    "pathway_analysis_df"
   ]
  },
  {
   "cell_type": "code",
   "execution_count": null,
   "metadata": {
    "collapsed": true
   },
   "outputs": [],
   "source": [
    "# pathway_analysis_df.to_csv('pathway_analysis_final.csv') \n",
    "# Most missing metabolites in unknown pathways\n"
   ]
  },
  {
   "cell_type": "code",
   "execution_count": null,
   "metadata": {
    "collapsed": false
   },
   "outputs": [],
   "source": [
    "# Looking at metabolites associated with underrepresented pathways \n",
    "counter = 0\n",
    "missing_metabs = []\n",
    "for pathway in df_AB_mass_spec_mapping_pathways['pathway']:\n",
    "    if pathway == '0':\n",
    "        missing_metabs.append(df_AB_mass_spec_mapping_pathways.loc[counter,'Putative metabolite'])\n",
    "    counter += 1\n",
    "        \n",
    "missing_metabs        \n",
    "        \n",
    "        \n",
    "        "
   ]
  },
  {
   "cell_type": "markdown",
   "metadata": {},
   "source": [
    "# Populating A. Baumannii reconstruction with metabolite formulas\n"
   ]
  },
  {
   "cell_type": "code",
   "execution_count": null,
   "metadata": {
    "collapsed": false
   },
   "outputs": [],
   "source": [
    "# Loading Acinetobacter baumannii network reconstruction 'iCN718' and E.coli model iJO1366\n",
    "AB_model = cobra.io.load_json_model('iCN718.json')\n",
    "Ecoli_model = cobra.io.load_json_model('iJO1366.json')\n",
    "\n",
    "# Ecoli_model.metabolites.get_by_id('atp_c')\n"
   ]
  },
  {
   "cell_type": "code",
   "execution_count": null,
   "metadata": {
    "collapsed": false
   },
   "outputs": [],
   "source": [
    "missing = []\n",
    "for metabolite_AB in AB_model.metabolites:\n",
    "    temp = metabolite_AB.id\n",
    "    a = False\n",
    "    for metabolite_EC in Ecoli_model.metabolites:\n",
    "        temp2 = metabolite_EC.id\n",
    "        if AB_model.metabolites.get_by_id(temp).id == Ecoli_model.metabolites.get_by_id(temp2).id:\n",
    "            a = True\n",
    "            AB_model.metabolites.get_by_id(temp).formula =  Ecoli_model.metabolites.get_by_id(temp2).formula\n",
    "    if a == False:\n",
    "        print(temp)\n",
    "        missing.append(temp)\n",
    "                \n",
    "                "
   ]
  },
  {
   "cell_type": "code",
   "execution_count": null,
   "metadata": {
    "collapsed": false
   },
   "outputs": [],
   "source": [
    "AB_S_matrix = cobra.util.array.create_stoichiometric_matrix(AB_model)\n",
    "AB_S_matrix"
   ]
  },
  {
   "cell_type": "code",
   "execution_count": null,
   "metadata": {
    "collapsed": false
   },
   "outputs": [],
   "source": [
    "import networkx as nx\n",
    "\n",
    "AB_adjacency = (np.dot(AB_S_matrix, AB_S_matrix.T) > 0).astype(int)\n",
    "AB_adjacency\n",
    "\n",
    "# graph = nx.from_numpy_matrix(AB_adjacency)\n",
    "# graph\n",
    "\n",
    "# nx.draw(G)\n",
    "fig = plt.figure(figsize=(12, 9)) \n",
    "plt.figure(figsize=(100,100))\n",
    "\n",
    "G = nx.from_numpy_matrix(np.array(AB_adjacency), create_using=nx.MultiDiGraph())\n",
    "# pos = nx.circular_layout(G)\n",
    "pos = nx.random_layout(G)\n",
    "\n",
    "# nx.draw_circular(G)\n",
    "nx.draw_random(G)\n",
    "labels = {i : i + 1 for i in G.nodes()}\n",
    "nx.draw_networkx_labels(G, pos, labels, font_size=15)\n",
    "\n",
    "plt.figure\n",
    "\n",
    "plt.figure(figsize=(300,400))\n",
    "fig.savefig('test3.png')\n",
    "plt.show()\n",
    "\n",
    "fig.savefig('test3.png')"
   ]
  },
  {
   "cell_type": "code",
   "execution_count": null,
   "metadata": {
    "collapsed": false
   },
   "outputs": [],
   "source": [
    "for rxn in AB_model.reactions:\n",
    "    \n",
    "    if rxn.subsystem == 'Glycolysis/ Gluconeogenesis':\n",
    "        print(rxn)"
   ]
  }
 ],
 "metadata": {
  "anaconda-cloud": {},
  "kernelspec": {
   "display_name": "Python [conda root]",
   "language": "python",
   "name": "conda-root-py"
  },
  "language_info": {
   "codemirror_mode": {
    "name": "ipython",
    "version": 3
   },
   "file_extension": ".py",
   "mimetype": "text/x-python",
   "name": "python",
   "nbconvert_exporter": "python",
   "pygments_lexer": "ipython3",
   "version": "3.5.2"
  }
 },
 "nbformat": 4,
 "nbformat_minor": 1
}
