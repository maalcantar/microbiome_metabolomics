{
 "cells": [
  {
   "cell_type": "code",
   "execution_count": 1,
   "metadata": {
    "collapsed": true
   },
   "outputs": [],
   "source": [
    "# Importing packages\n",
    "import pandas as pd\n",
    "from matplotlib import pyplot as plt\n",
    "import string\n",
    "\n",
    "# COBRA toolbox specific packages\n",
    "from cobra import Model, Reaction, Metabolite\n",
    "import cobra\n",
    "from cobra.flux_analysis import (\n",
    "    single_gene_deletion, single_reaction_deletion, double_gene_deletion,\n",
    "    double_reaction_deletion)"
   ]
  },
  {
   "cell_type": "code",
   "execution_count": 38,
   "metadata": {
    "collapsed": false
   },
   "outputs": [
    {
     "data": {
      "text/html": [
       "<div>\n",
       "<style scoped>\n",
       "    .dataframe tbody tr th:only-of-type {\n",
       "        vertical-align: middle;\n",
       "    }\n",
       "\n",
       "    .dataframe tbody tr th {\n",
       "        vertical-align: top;\n",
       "    }\n",
       "\n",
       "    .dataframe thead th {\n",
       "        text-align: right;\n",
       "    }\n",
       "</style>\n",
       "<table border=\"1\" class=\"dataframe\">\n",
       "  <thead>\n",
       "    <tr style=\"text-align: right;\">\n",
       "      <th></th>\n",
       "      <th>Mass</th>\n",
       "      <th>Formula</th>\n",
       "      <th>Putative metabolite</th>\n",
       "    </tr>\n",
       "  </thead>\n",
       "  <tbody>\n",
       "    <tr>\n",
       "      <th>0</th>\n",
       "      <td>189.063754</td>\n",
       "      <td>C7H11NO5</td>\n",
       "      <td>N-Acetyl-L-glutamate</td>\n",
       "    </tr>\n",
       "    <tr>\n",
       "      <th>1</th>\n",
       "      <td>147.052987</td>\n",
       "      <td>C5H9NO4</td>\n",
       "      <td>L-Glutamate</td>\n",
       "    </tr>\n",
       "    <tr>\n",
       "      <th>2</th>\n",
       "      <td>175.095627</td>\n",
       "      <td>C6H13N3O3</td>\n",
       "      <td>L-Citrulline</td>\n",
       "    </tr>\n",
       "    <tr>\n",
       "      <th>3</th>\n",
       "      <td>221.089958</td>\n",
       "      <td>C8H15NO6</td>\n",
       "      <td>N-Acetyl-D-glucosamine</td>\n",
       "    </tr>\n",
       "    <tr>\n",
       "      <th>4</th>\n",
       "      <td>259.045942</td>\n",
       "      <td>C6H14NO8P</td>\n",
       "      <td>D-Glucosamine 6-phosphate</td>\n",
       "    </tr>\n",
       "  </tbody>\n",
       "</table>\n",
       "</div>"
      ],
      "text/plain": [
       "         Mass    Formula        Putative metabolite\n",
       "0  189.063754   C7H11NO5       N-Acetyl-L-glutamate\n",
       "1  147.052987    C5H9NO4                L-Glutamate\n",
       "2  175.095627  C6H13N3O3               L-Citrulline\n",
       "3  221.089958   C8H15NO6     N-Acetyl-D-glucosamine\n",
       "4  259.045942  C6H14NO8P  D-Glucosamine 6-phosphate"
      ]
     },
     "execution_count": 38,
     "metadata": {},
     "output_type": "execute_result"
    }
   ],
   "source": [
    "# Loading mass spec. data into dataframe\n",
    "df_AB_mass_spec_data = pd.read_csv(\"Acinetobacter_baumannii_mass_spec.csv\")\n",
    "df_AB_mass_spec_data_important_features = df_AB_mass_spec_data.loc[:, 'Mass':'Max intensity'] # extracting important features\n",
    "# df_AB_mass_spec_data_important_features.head()\n",
    "\n",
    "df_AB_mass_spec_minimal = df_AB_mass_spec_data_important_features[['Mass','Formula','Putative metabolite']] # Mass, formula, name\n",
    "df_AB_mass_spec_minimal.head()"
   ]
  },
  {
   "cell_type": "code",
   "execution_count": 40,
   "metadata": {
    "collapsed": false
   },
   "outputs": [],
   "source": [
    "# Loading Acinetobacter baumannii network reconstruction 'iCN718'\n",
    "AB_model=cobra.io.load_json_model('iCN718.json');"
   ]
  },
  {
   "cell_type": "code",
   "execution_count": null,
   "metadata": {
    "collapsed": true
   },
   "outputs": [],
   "source": [
    "def calc_mass_from_formula( str ):\n",
    "    C = 12.0107 # +/- 0.0008\n",
    "    H = 1.00794 # +/- 0.00001\n",
    "    N = 14.0067 # +/- 0.0001\n",
    "    O = 15.9994 # +/-\n",
    "    P = 30.973762 # +/- 0.000002\n",
    "    S =  32.065 # +/- 0.005\n",
    "    \n",
    "    new_str = ''\n",
    "    \n",
    "    for index in range length(str):\n",
    "        temp_str = str[index]\n",
    "        if temp_str.isalpha():\n",
    "            new_str = new_str + '+'\n",
    "            \n",
    "        "
   ]
  },
  {
   "cell_type": "code",
   "execution_count": 45,
   "metadata": {
    "collapsed": false
   },
   "outputs": [
    {
     "data": {
      "text/plain": [
       "189.1617"
      ]
     },
     "execution_count": 45,
     "metadata": {},
     "output_type": "execute_result"
    }
   ],
   "source": [
    "C = 12.01\n",
    "H = 1.008\n",
    "N = 14.0067\n",
    "O = 15.9994\n",
    "P = 30.9738\n",
    "    \n",
    "7*C + 11*H + N + 5*O"
   ]
  },
  {
   "cell_type": "code",
   "execution_count": 43,
   "metadata": {
    "collapsed": false
   },
   "outputs": [
    {
     "data": {
      "text/plain": [
       "'C6H13N3O3'"
      ]
     },
     "execution_count": 43,
     "metadata": {},
     "output_type": "execute_result"
    }
   ],
   "source": [
    "AB_model.metabolites.citr__L_c.formula"
   ]
  },
  {
   "cell_type": "code",
   "execution_count": 54,
   "metadata": {
    "collapsed": false
   },
   "outputs": [
    {
     "data": {
      "text/plain": [
       "'d'"
      ]
     },
     "execution_count": 54,
     "metadata": {},
     "output_type": "execute_result"
    }
   ],
   "source": [
    "str = 'a1b2'\n",
    "str[0]\n",
    "new_str = ''\n",
    "new_str + 'd'"
   ]
  }
 ],
 "metadata": {
  "anaconda-cloud": {},
  "kernelspec": {
   "display_name": "Python [conda root]",
   "language": "python",
   "name": "conda-root-py"
  },
  "language_info": {
   "codemirror_mode": {
    "name": "ipython",
    "version": 3
   },
   "file_extension": ".py",
   "mimetype": "text/x-python",
   "name": "python",
   "nbconvert_exporter": "python",
   "pygments_lexer": "ipython3",
   "version": "3.5.2"
  }
 },
 "nbformat": 4,
 "nbformat_minor": 1
}
